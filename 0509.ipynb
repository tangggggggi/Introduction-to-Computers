{
  "nbformat": 4,
  "nbformat_minor": 0,
  "metadata": {
    "colab": {
      "name": "0509.ipynb",
      "provenance": [],
      "authorship_tag": "ABX9TyMiBzgTf5OQ8NV5PvhLfi9n",
      "include_colab_link": true
    },
    "kernelspec": {
      "name": "python3",
      "display_name": "Python 3"
    },
    "language_info": {
      "name": "python"
    }
  },
  "cells": [
    {
      "cell_type": "markdown",
      "metadata": {
        "id": "view-in-github",
        "colab_type": "text"
      },
      "source": [
        "<a href=\"https://colab.research.google.com/github/tangggggggi/Introduction-to-Computers/blob/main/0509.ipynb\" target=\"_parent\"><img src=\"https://colab.research.google.com/assets/colab-badge.svg\" alt=\"Open In Colab\"/></a>"
      ]
    },
    {
      "cell_type": "code",
      "execution_count": 3,
      "metadata": {
        "colab": {
          "base_uri": "https://localhost:8080/"
        },
        "id": "PcGENWLsS_Si",
        "outputId": "e8fa7747-b4d8-449b-b7c7-8afaa63f84da"
      },
      "outputs": [
        {
          "output_type": "stream",
          "name": "stdout",
          "text": [
            "請輸入你的體溫33.9\n",
            "體溫異常 請重新測量\n"
          ]
        }
      ],
      "source": [
        "temp=float(input('請輸入你的體溫'))\n",
        "if (temp>=37.5):\n",
        "  print(\"體溫過高\")\n",
        "elif(temp>=37 and temp<=37.4):\n",
        "  print(\"體溫略高!\")\n",
        "elif(temp>=34 and temp<=36.5):\n",
        "  print('體溫正常!')\n",
        "else:\n",
        "  print(\"體溫異常 請重新測量\")"
      ]
    },
    {
      "cell_type": "code",
      "source": [
        "score=int(input('請輸入成績'))\n",
        "if(score>=90):\n",
        "  print('A')\n",
        "elif(score>=80):\n",
        "  print('B')\n",
        "elif(score>=70):\n",
        "  print('C')\n",
        "elif(score>=60):\n",
        "  print('D')\n",
        "else:\n",
        "  print('E')"
      ],
      "metadata": {
        "colab": {
          "base_uri": "https://localhost:8080/"
        },
        "id": "lH0ie9yNTVvv",
        "outputId": "16f41cdf-7a38-4d15-90ac-7896dfdc595f"
      },
      "execution_count": 5,
      "outputs": [
        {
          "output_type": "stream",
          "name": "stdout",
          "text": [
            "請輸入成績100\n",
            "A\n"
          ]
        }
      ]
    },
    {
      "cell_type": "code",
      "source": [
        "money=int(input('請輸入購物金額'))\n",
        "if(money>=10000):\n",
        "  if(money>=100000):\n",
        "    print(\"八折\",money*0.8,end='元\\n')\n",
        "  elif(money>=50000):\n",
        "   print(\"八五折\",money*0.85,end='元\\n')\n",
        "  elif(money>=30000):\n",
        "   print(\"九折\",money*0.9,end='元\\n')\n",
        "  else:\n",
        "   print(\"九五折\",money*0.95,end='元\\n')\n",
        "else:\n",
        "  print(\"沒打折\",money,end='元\\n')"
      ],
      "metadata": {
        "colab": {
          "base_uri": "https://localhost:8080/"
        },
        "id": "SCwyhFB9T5AO",
        "outputId": "4d313c8a-ea73-4c42-ea53-02cef942ef40"
      },
      "execution_count": 7,
      "outputs": [
        {
          "output_type": "stream",
          "name": "stdout",
          "text": [
            "請輸入購物金額55000\n",
            "八五折 46750.0元\n"
          ]
        }
      ]
    }
  ]
}